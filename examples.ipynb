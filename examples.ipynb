{
 "metadata": {
  "name": ""
 },
 "nbformat": 3,
 "nbformat_minor": 0,
 "worksheets": [
  {
   "cells": [
    {
     "cell_type": "code",
     "collapsed": false,
     "input": [
      "import time\n",
      "import sys\n",
      "\n",
      "X0 = 2**80 - 1234567\n",
      "n_iter = 1000000\n",
      "k = 10\n",
      "\n",
      "for k in 75, 40, 20, 10, 5:\n",
      "    print \"k =\", k\n",
      "    sys.stdout.flush\n",
      "    start = time.time()\n",
      "    for i in xrange(n_iter):\n",
      "        x, y = divmod(X0, 1<<k)\n",
      "    duration = time.time() - start\n",
      "    print \"    divmod:\", duration / n_iter, \"sec.\"\n",
      "    sys.stdout.flush()\n",
      "    \n",
      "    start = time.time()\n",
      "    for i in xrange(n_iter):\n",
      "            y = X0 & ((1 << k) - 1)\n",
      "            x = X0 >> k\n",
      "    duration = time.time() - start\n",
      "    print \"    shift/AND:\", duration / n_iter, \"sec.\"\n",
      "    sys.stdout.flush\n"
     ],
     "language": "python",
     "metadata": {},
     "outputs": [
      {
       "output_type": "stream",
       "stream": "stdout",
       "text": [
        "k = 75\n",
        "    divmod:"
       ]
      },
      {
       "output_type": "stream",
       "stream": "stdout",
       "text": [
        " 2.1011929512e-06 sec.\n"
       ]
      },
      {
       "output_type": "stream",
       "stream": "stdout",
       "text": [
        "    shift/AND: 2.01627612114e-06 sec.\n",
        "k = 40\n",
        "    divmod:"
       ]
      },
      {
       "output_type": "stream",
       "stream": "stdout",
       "text": [
        " 2.08836913109e-06 sec.\n"
       ]
      },
      {
       "output_type": "stream",
       "stream": "stdout",
       "text": [
        "    shift/AND: 1.99064683914e-06 sec.\n",
        "k = 20\n",
        "    divmod:"
       ]
      },
      {
       "output_type": "stream",
       "stream": "stdout",
       "text": [
        " 1.84643888474e-06 sec.\n"
       ]
      },
      {
       "output_type": "stream",
       "stream": "stdout",
       "text": [
        "    shift/AND: 1.47748279572e-06 sec.\n",
        "k = 10\n",
        "    divmod:"
       ]
      },
      {
       "output_type": "stream",
       "stream": "stdout",
       "text": [
        " 1.54874491692e-06 sec.\n"
       ]
      },
      {
       "output_type": "stream",
       "stream": "stdout",
       "text": [
        "    shift/AND: 1.48522806168e-06 sec.\n",
        "k = 5\n",
        "    divmod:"
       ]
      },
      {
       "output_type": "stream",
       "stream": "stdout",
       "text": [
        " 1.50710320473e-06 sec.\n"
       ]
      },
      {
       "output_type": "stream",
       "stream": "stdout",
       "text": [
        "    shift/AND: 1.44096398354e-06 sec.\n"
       ]
      }
     ],
     "prompt_number": 16
    },
    {
     "cell_type": "code",
     "collapsed": false,
     "input": [
      "from treeprng import *\n",
      "story = TreePRNG()[\"The Lord of the Rings\"]\n",
      "frodo = story[\"hobbits\"][\"Frodo\"]\n",
      "gandalf = story[\"wizards\"][\"Gandalf\"]\n",
      "galadriel = story[\"elves\"][\"Galadriel\"]\n",
      "hair_colors = [\"blond\", \"red\", \"brown\", \"black\", \"gray\", \"white\"]\n",
      "\n",
      "for name, character in (\"Frodo\", frodo), (\"Gandalf\", gandalf), (\"Galadriel\", galadriel):\n",
      "    hair_color = character[\"hair_color\"].choice(hair_colors)\n",
      "    print name, \"has\", hair_color, \"hair.\""
     ],
     "language": "python",
     "metadata": {},
     "outputs": [
      {
       "output_type": "stream",
       "stream": "stdout",
       "text": [
        "Frodo has brown hair.\n",
        "Gandalf has gray hair.\n",
        "Galadriel has gray hair.\n"
       ]
      }
     ],
     "prompt_number": 15
    },
    {
     "cell_type": "code",
     "collapsed": false,
     "input": [
      "def chemistry(story, a, b):\n",
      "    couple = (a.hash(), b.hash())\n",
      "    return story[\"chemistry\"][sorted(couple)]\n",
      "\n",
      "print chemistry(story, gandalf, galadriel).hash()\n",
      "print chemistry(story, galadriel, gandalf).hash()"
     ],
     "language": "python",
     "metadata": {},
     "outputs": [
      {
       "output_type": "stream",
       "stream": "stdout",
       "text": [
        "542350473925796684172254562153264835759697943585\n",
        "542350473925796684172254562153264835759697943585\n"
       ]
      }
     ],
     "prompt_number": 20
    },
    {
     "cell_type": "code",
     "collapsed": false,
     "input": [],
     "language": "python",
     "metadata": {},
     "outputs": []
    }
   ],
   "metadata": {}
  }
 ]
}